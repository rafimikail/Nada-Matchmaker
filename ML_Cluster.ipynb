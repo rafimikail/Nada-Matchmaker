{
 "cells": [
  {
   "cell_type": "markdown",
   "metadata": {
    "id": "mO9jiGvoqQ4l"
   },
   "source": [
    "# Creating Fake profiles for our dataset"
   ]
  },
  {
   "cell_type": "code",
   "execution_count": 3,
   "metadata": {
    "id": "o1netMPq8xVO"
   },
   "outputs": [],
   "source": [
    "import pandas as pd\n",
    "import numpy as np\n",
    "import sklearn.datasets as sk\n",
    "import seaborn as sb\n",
    "import random as rd\n",
    "import matplotlib.pyplot as plt\n",
    "from sklearn.cluster import KMeans,AgglomerativeClustering\n",
    "from sklearn.feature_extraction.text import TfidfVectorizer, CountVectorizer\n",
    "from sklearn.cluster import KMeans\n",
    "import sklearn.metrics  as sk_metrics\n",
    "from sklearn.preprocessing import MinMaxScaler"
   ]
  },
  {
   "cell_type": "code",
   "execution_count": null,
   "metadata": {
    "id": "5iAaCvmqkRiH"
   },
   "outputs": [],
   "source": [
    "#                                                                                                                                                                                                                                                                                                                                                                                                                                                                                                                                                                                                                                                                                                                                                                                                                                                                                                                                                                                                                                                                                                                                                                                                                                                                                                                                                                                                                                                                                                                                                                                                                                                                                                                                                                                                                                                                                                                                                                                                                                                                                                                                                                                                                                                                                                                                                                                                                                                                                                                                                                                                                                                                                                                                                                                                                                                                                                                                                                                                                                                                                                                                                                                                                                                                                                                                                                                                                                                                                                                                                                                                                                                                                                                                                                                                                                                                                                                                                                                                                                                                                                                                                                                                                                                                                                                                                                                                                                                                                                                                                                                                                                                                                                                                                                                                                                                                                                                                                                                                                                                                                                                                                                       # Generating fake dataset\n",
    "# X,y =sk.make_blobs(n_samples=4000, n_features=4,centers=12, center_box=(-5, 5), shuffle=False, random_state=80, \n",
    "#                    cluster_std=0.6)\n",
    "\n"
   ]
  },
  {
   "cell_type": "code",
   "execution_count": null,
   "metadata": {
    "id": "bX9XN9O08xVW",
    "scrolled": false
   },
   "outputs": [],
   "source": [
    "# df1=pd.DataFrame({\"Openness\":X[:,0],\"Agreeableness\":X[:,1],\"Conscientiousness\":X[:,2],\"Extroversion\":X[:,3]})\n",
    "\n",
    "# df1=np.around(df1.apply(lambda x: (x * 0.05) + 0.5 ),decimals=2)\n",
    "\n",
    "\n"
   ]
  },
  {
   "cell_type": "code",
   "execution_count": null,
   "metadata": {
    "colab": {
     "base_uri": "https://localhost:8080/",
     "height": 402
    },
    "id": "SfmWWtcAMR66",
    "outputId": "0c1df926-8aa5-4ce7-d901-3b4ef26b4176"
   },
   "outputs": [],
   "source": [
    "# df1"
   ]
  },
  {
   "cell_type": "code",
   "execution_count": null,
   "metadata": {
    "id": "vZWOn5daV_lx"
   },
   "outputs": [],
   "source": [
    "# # Setting the amount of clusters to test out\n",
    "# cluster_cnt = [i for i in range(2, 20, 1)]\n",
    "\n",
    "# # Establishing empty lists to store the scores for the evaluation metrics\n",
    "# s_scores = []\n",
    "\n",
    "# db_scores = []\n",
    "\n",
    "# # Looping through different iterations for the number of clusters\n",
    "# for i in cluster_cnt:\n",
    "    \n",
    "#     # Hierarchical Agglomerative Clustering with different number of clusters\n",
    "#     hac = AgglomerativeClustering(n_clusters=i)\n",
    "    \n",
    "#     hac.fit(df1)\n",
    "    \n",
    "#     cluster_assignments = hac.labels_\n",
    "#     # Appending the scores to the empty lists    \n",
    "#     s_scores.append(sk_metrics.silhouette_score(df1, cluster_assignments))\n",
    "    \n",
    "#     db_scores.append(sk_metrics.davies_bouldin_score(df1, cluster_assignments))"
   ]
  },
  {
   "cell_type": "code",
   "execution_count": null,
   "metadata": {
    "colab": {
     "base_uri": "https://localhost:8080/",
     "height": 1000
    },
    "id": "w2TVRWLHT-D7",
    "outputId": "db3d0b78-08f4-49ee-f23c-0f25c5bda1b1"
   },
   "outputs": [],
   "source": [
    "# def plot_evaluation(y, x=cluster_cnt):\n",
    "#     \"\"\"\n",
    "#     Plots the scores of a set evaluation metric. Prints out the max and min values of the evaluation scores.\n",
    "#     \"\"\"\n",
    "    \n",
    "#     # Creating a DataFrame for returning the max and min scores for each cluster\n",
    "#     df = pd.DataFrame(columns=['Cluster Score'], index=[i for i in range(2, len(y)+2)])\n",
    "#     df['Cluster Score'] = y\n",
    "    \n",
    "#     print('Max Value:\\nCluster #', df[df['Cluster Score']==df['Cluster Score'].max()])\n",
    "#     print('\\nMin Value:\\nCluster #', df[df['Cluster Score']==df['Cluster Score'].min()])\n",
    "    \n",
    "#     # Plotting out the scores based on cluster count\n",
    "#     plt.figure(figsize=(16,6))\n",
    "#     plt.style.use('ggplot')\n",
    "#     plt.plot(x,y)\n",
    "#     plt.xlabel('# of Clusters')\n",
    "#     plt.ylabel('Score')\n",
    "#     plt.show()\n",
    "    \n",
    "# # Running the function on the list of scores\n",
    "# plot_evaluation(s_scores)\n",
    "\n",
    "# plot_evaluation(db_scores)"
   ]
  },
  {
   "cell_type": "code",
   "execution_count": null,
   "metadata": {
    "colab": {
     "base_uri": "https://localhost:8080/",
     "height": 299
    },
    "id": "64FOMxlt12hk",
    "outputId": "a4d687a6-19c1-47b6-e07b-9da28874edab"
   },
   "outputs": [],
   "source": [
    "# from sklearn.cluster import KMeans\n",
    "# wcss=[] #With in cluster sum of squers(Inertia)\n",
    "# for i in range(1,20,1):\n",
    "#     kmeans=KMeans(n_clusters=i, init=\"k-means++\",max_iter=1000, n_init=10, random_state=0)\n",
    "#     kmeans.fit(df1)\n",
    "#     wcss.append(kmeans.inertia_)\n",
    "# plt.plot(range(1,20),wcss)\n",
    "# plt.title(\"The Elbow Method\")\n",
    "# plt.xlabel(\"Number of Clusters\")\n",
    "# plt.ylabel(\"wcss\")\n",
    "# plt.show()"
   ]
  },
  {
   "cell_type": "code",
   "execution_count": null,
   "metadata": {
    "id": "pQkZFHjROAVs"
   },
   "outputs": [],
   "source": [
    "# #K-Means\n",
    "# kmeans = KMeans(n_clusters = 12)\n",
    "# kmeans.fit(df1)\n",
    "# y_kmeans = kmeans.predict(df1)"
   ]
  },
  {
   "cell_type": "code",
   "execution_count": null,
   "metadata": {
    "colab": {
     "base_uri": "https://localhost:8080/",
     "height": 402
    },
    "id": "Boz9UlXMlyax",
    "outputId": "cf7bf238-3e4b-453c-9be5-8272f1b2c984"
   },
   "outputs": [],
   "source": [
    "# df1"
   ]
  },
  {
   "cell_type": "code",
   "execution_count": null,
   "metadata": {
    "id": "Scm_rCxNOE1b"
   },
   "outputs": [],
   "source": [
    "# df1[\"clusters\"]=y_kmeans"
   ]
  },
  {
   "cell_type": "code",
   "execution_count": null,
   "metadata": {
    "colab": {
     "base_uri": "https://localhost:8080/",
     "height": 402
    },
    "id": "LtZzcsV5Oz6i",
    "outputId": "60c13376-ac9d-4d59-9df9-958f4976c310"
   },
   "outputs": [],
   "source": [
    "\n",
    "# df1"
   ]
  },
  {
   "cell_type": "markdown",
   "metadata": {
    "id": "VuUBcPZ7otkp"
   },
   "source": [
    "# creating complete profile"
   ]
  },
  {
   "cell_type": "code",
   "execution_count": null,
   "metadata": {
    "id": "3edZ9osJotkr"
   },
   "outputs": [],
   "source": [
    "# namesFile = pd.read_csv(\"NationalNames.csv\")"
   ]
  },
  {
   "cell_type": "code",
   "execution_count": null,
   "metadata": {
    "id": "foVcp4yeotks",
    "outputId": "211ff0ad-3488-4fa1-ed98-cfd3e4188495"
   },
   "outputs": [],
   "source": [
    "# namesFile"
   ]
  },
  {
   "cell_type": "code",
   "execution_count": null,
   "metadata": {
    "id": "TWkBOi01otkv"
   },
   "outputs": [],
   "source": [
    "# #need only to use name and gender \n",
    "# profiles = namesFile.filter(['Name','Gender'], axis=1)\n",
    "# # generating the age \n",
    "# age = np.random.randint(18,50,1825433)\n",
    "# profiles[\"Age\"]=age\n",
    "# #converting gender to dummy variable 0 and 1\n",
    "\n",
    "# profiles[\"Gender\"]=pd.get_dummies(profiles[\"Gender\"])\n",
    "# # 0 = hetero  1 = homo   2 = bi\n",
    "\n",
    "# profiles['Sexual orientation'] = np.random.randint(0,3,1825433)"
   ]
  },
  {
   "cell_type": "code",
   "execution_count": null,
   "metadata": {
    "id": "Zse8o29Motkx"
   },
   "outputs": [],
   "source": [
    "# #need to make the data disorder to be very random\n",
    "# profiles=profiles.sample(frac=1).reset_index(drop=True)"
   ]
  },
  {
   "cell_type": "code",
   "execution_count": null,
   "metadata": {
    "id": "izKiZEg5otkz"
   },
   "outputs": [],
   "source": [
    "# #selecting only 4000 of the profile samples\n",
    "# profiles=profiles.head(4000)\n"
   ]
  },
  {
   "cell_type": "code",
   "execution_count": null,
   "metadata": {
    "id": "SZHY5uiTotk0",
    "outputId": "555edf66-4aa1-4cf6-d787-d02e713322c8"
   },
   "outputs": [],
   "source": [
    "# profiles"
   ]
  },
  {
   "cell_type": "code",
   "execution_count": null,
   "metadata": {
    "id": "b28wJThRotk2"
   },
   "outputs": [],
   "source": [
    "# # concate to the cluster dataframe\n",
    "# nada_dataset=pd.concat([profiles, df1], axis=1)"
   ]
  },
  {
   "cell_type": "code",
   "execution_count": null,
   "metadata": {
    "id": "9yb1qfkLotk3",
    "outputId": "6585418a-ae75-49c4-de9a-e903b3dc4159"
   },
   "outputs": [],
   "source": [
    "# nada_dataset"
   ]
  },
  {
   "cell_type": "code",
   "execution_count": null,
   "metadata": {
    "id": "xEf_4U-uotk4"
   },
   "outputs": [],
   "source": [
    "# nada_dataset.to_csv(\"Nada Dataset\",index=True)"
   ]
  },
  {
   "cell_type": "markdown",
   "metadata": {
    "id": "rGqW3aiuqYHI"
   },
   "source": [
    "# Exploring the fake dataset"
   ]
  },
  {
   "cell_type": "markdown",
   "metadata": {
    "id": "XF5BSiabotk5"
   },
   "source": [
    "# Data exploritory "
   ]
  },
  {
   "cell_type": "code",
   "execution_count": null,
   "metadata": {
    "id": "ROuH70ykotk7"
   },
   "outputs": [],
   "source": [
    "# since it's hectic to plot a 3D plot to visualize 4D array into a 2D space we plot features vs features"
   ]
  },
  {
   "cell_type": "code",
   "execution_count": 12,
   "metadata": {
    "id": "5AWO2iVHotk8"
   },
   "outputs": [],
   "source": [
    "#download the dataset file in your directory then run \n",
    "nada_dataset=pd.read_csv(\"Nada Dataset\")"
   ]
  },
  {
   "cell_type": "code",
   "execution_count": 13,
   "metadata": {
    "colab": {
     "base_uri": "https://localhost:8080/",
     "height": 282
    },
    "id": "rE-VfyvKdJMW",
    "outputId": "296e554a-1a83-4208-b242-a09b50c64e06"
   },
   "outputs": [
    {
     "data": {
      "text/plain": [
       "<matplotlib.collections.PathCollection at 0x15308f90f08>"
      ]
     },
     "execution_count": 13,
     "metadata": {},
     "output_type": "execute_result"
    },
    {
     "data": {
      "image/png": "[encoded data removed]",
      "text/plain": [
       "<Figure size 432x288 with 1 Axes>"
      ]
     },
     "metadata": {
      "needs_background": "light"
     },
     "output_type": "display_data"
    }
   ],
   "source": [
    "plt.scatter(nada_dataset.iloc[:, 4], nada_dataset.iloc[:, 5],c=nada_dataset[\"clusters\"], s=50, cmap='Dark2')\n"
   ]
  },
  {
   "cell_type": "code",
   "execution_count": 14,
   "metadata": {
    "colab": {
     "base_uri": "https://localhost:8080/",
     "height": 282
    },
    "id": "ZQWPnkIGeZPl",
    "outputId": "3bd11158-2c0d-446f-bcda-abee6264cdf7"
   },
   "outputs": [
    {
     "data": {
      "text/plain": [
       "<matplotlib.collections.PathCollection at 0x15308c664c8>"
      ]
     },
     "execution_count": 14,
     "metadata": {},
     "output_type": "execute_result"
    },
    {
     "data": {
      "image/png": "[encoded data removed]",
      "text/plain": [
       "<Figure size 432x288 with 1 Axes>"
      ]
     },
     "metadata": {
      "needs_background": "light"
     },
     "output_type": "display_data"
    }
   ],
   "source": [
    "plt.scatter(nada_dataset.iloc[:,5], nada_dataset.iloc[:,6],c=nada_dataset[\"clusters\"], s=50, cmap='Dark2')\n"
   ]
  },
  {
   "cell_type": "code",
   "execution_count": 15,
   "metadata": {
    "colab": {
     "base_uri": "https://localhost:8080/",
     "height": 282
    },
    "id": "Gm_55wkoINwM",
    "outputId": "62fc4ae3-689b-4e4d-af62-fa052f3dfa72"
   },
   "outputs": [
    {
     "data": {
      "text/plain": [
       "<matplotlib.collections.PathCollection at 0x15308541e48>"
      ]
     },
     "execution_count": 15,
     "metadata": {},
     "output_type": "execute_result"
    },
    {
     "data": {
      "image/png": "[encoded data removed]",
      "text/plain": [
       "<Figure size 432x288 with 1 Axes>"
      ]
     },
     "metadata": {
      "needs_background": "light"
     },
     "output_type": "display_data"
    }
   ],
   "source": [
    "plt.scatter(nada_dataset.iloc[:,6], nada_dataset.iloc[:,7],c=nada_dataset[\"clusters\"], s=50, cmap='Dark2')\n"
   ]
  },
  {
   "cell_type": "code",
   "execution_count": 16,
   "metadata": {
    "colab": {
     "base_uri": "https://localhost:8080/",
     "height": 282
    },
    "id": "O8LLkC24IWQt",
    "outputId": "497e235a-f801-474c-beb7-a336d3416753"
   },
   "outputs": [
    {
     "data": {
      "text/plain": [
       "<matplotlib.collections.PathCollection at 0x15308784088>"
      ]
     },
     "execution_count": 16,
     "metadata": {},
     "output_type": "execute_result"
    },
    {
     "data": {
      "image/png": "[encoded data removed]",
      "text/plain": [
       "<Figure size 432x288 with 1 Axes>"
      ]
     },
     "metadata": {
      "needs_background": "light"
     },
     "output_type": "display_data"
    }
   ],
   "source": [
    "plt.scatter(nada_dataset.iloc[:,4], nada_dataset.iloc[:,7],c=nada_dataset[\"clusters\"], s=50, cmap='Dark2')\n"
   ]
  },
  {
   "cell_type": "code",
   "execution_count": 17,
   "metadata": {
    "colab": {
     "base_uri": "https://localhost:8080/",
     "height": 729
    },
    "id": "4jsi-oET8xVc",
    "outputId": "97bfada9-3944-48d3-d7a8-22d3f6561738",
    "scrolled": true
   },
   "outputs": [
    {
     "ename": "NameError",
     "evalue": "name 'y' is not defined",
     "output_type": "error",
     "traceback": [
      "\u001b[1;31m---------------------------------------------------------------------------\u001b[0m",
      "\u001b[1;31mNameError\u001b[0m                                 Traceback (most recent call last)",
      "\u001b[1;32m<ipython-input-17-67ffc2b9d603>\u001b[0m in \u001b[0;36m<module>\u001b[1;34m\u001b[0m\n\u001b[0;32m      3\u001b[0m \u001b[1;31m#Plotting\u001b[0m\u001b[1;33m\u001b[0m\u001b[1;33m\u001b[0m\u001b[1;33m\u001b[0m\u001b[0m\n\u001b[0;32m      4\u001b[0m \u001b[0mfig\u001b[0m\u001b[1;33m,\u001b[0m \u001b[0maxs\u001b[0m \u001b[1;33m=\u001b[0m \u001b[0mplt\u001b[0m\u001b[1;33m.\u001b[0m\u001b[0msubplots\u001b[0m\u001b[1;33m(\u001b[0m\u001b[1;36m2\u001b[0m\u001b[1;33m,\u001b[0m \u001b[1;36m2\u001b[0m\u001b[1;33m,\u001b[0m \u001b[0mfigsize\u001b[0m\u001b[1;33m=\u001b[0m\u001b[1;33m(\u001b[0m\u001b[1;36m10\u001b[0m\u001b[1;33m,\u001b[0m\u001b[1;36m10\u001b[0m\u001b[1;33m)\u001b[0m\u001b[1;33m)\u001b[0m\u001b[1;33m\u001b[0m\u001b[1;33m\u001b[0m\u001b[0m\n\u001b[1;32m----> 5\u001b[1;33m \u001b[0maxs\u001b[0m\u001b[1;33m[\u001b[0m\u001b[1;36m0\u001b[0m\u001b[1;33m,\u001b[0m \u001b[1;36m0\u001b[0m\u001b[1;33m]\u001b[0m\u001b[1;33m.\u001b[0m\u001b[0mscatter\u001b[0m\u001b[1;33m(\u001b[0m\u001b[0mnada_dataset\u001b[0m\u001b[1;33m.\u001b[0m\u001b[0miloc\u001b[0m\u001b[1;33m[\u001b[0m\u001b[1;33m:\u001b[0m\u001b[1;33m,\u001b[0m \u001b[1;36m4\u001b[0m\u001b[1;33m]\u001b[0m\u001b[1;33m,\u001b[0m \u001b[0my\u001b[0m\u001b[1;33m,\u001b[0m \u001b[0mc\u001b[0m \u001b[1;33m=\u001b[0m \u001b[0mnada_dataset\u001b[0m\u001b[1;33m[\u001b[0m\u001b[1;34m\"clusters\"\u001b[0m\u001b[1;33m]\u001b[0m\u001b[1;33m,\u001b[0m \u001b[0ms\u001b[0m \u001b[1;33m=\u001b[0m \u001b[1;36m50\u001b[0m\u001b[1;33m,\u001b[0m \u001b[0mcmap\u001b[0m \u001b[1;33m=\u001b[0m \u001b[1;34m'Dark2'\u001b[0m\u001b[1;33m)\u001b[0m\u001b[1;33m\u001b[0m\u001b[1;33m\u001b[0m\u001b[0m\n\u001b[0m\u001b[0;32m      6\u001b[0m \u001b[0maxs\u001b[0m\u001b[1;33m[\u001b[0m\u001b[1;36m0\u001b[0m\u001b[1;33m,\u001b[0m \u001b[1;36m0\u001b[0m\u001b[1;33m]\u001b[0m\u001b[1;33m.\u001b[0m\u001b[0mset_title\u001b[0m\u001b[1;33m(\u001b[0m\u001b[1;34m'Openness'\u001b[0m\u001b[1;33m)\u001b[0m\u001b[1;33m\u001b[0m\u001b[1;33m\u001b[0m\u001b[0m\n\u001b[0;32m      7\u001b[0m \u001b[0maxs\u001b[0m\u001b[1;33m[\u001b[0m\u001b[1;36m0\u001b[0m\u001b[1;33m,\u001b[0m \u001b[1;36m1\u001b[0m\u001b[1;33m]\u001b[0m\u001b[1;33m.\u001b[0m\u001b[0mscatter\u001b[0m\u001b[1;33m(\u001b[0m\u001b[0mnada_dataset\u001b[0m\u001b[1;33m.\u001b[0m\u001b[0miloc\u001b[0m\u001b[1;33m[\u001b[0m\u001b[1;33m:\u001b[0m\u001b[1;33m,\u001b[0m \u001b[1;36m5\u001b[0m\u001b[1;33m]\u001b[0m\u001b[1;33m,\u001b[0m \u001b[0my\u001b[0m\u001b[1;33m,\u001b[0m \u001b[0mc\u001b[0m \u001b[1;33m=\u001b[0m \u001b[0mnada_dataset\u001b[0m\u001b[1;33m[\u001b[0m\u001b[1;34m\"clusters\"\u001b[0m\u001b[1;33m]\u001b[0m\u001b[1;33m,\u001b[0m \u001b[0ms\u001b[0m \u001b[1;33m=\u001b[0m \u001b[1;36m50\u001b[0m\u001b[1;33m,\u001b[0m \u001b[0mcmap\u001b[0m \u001b[1;33m=\u001b[0m \u001b[1;34m'Dark2'\u001b[0m\u001b[1;33m)\u001b[0m\u001b[1;33m\u001b[0m\u001b[1;33m\u001b[0m\u001b[0m\n",
      "\u001b[1;31mNameError\u001b[0m: name 'y' is not defined"
     ]
    },
    {
     "data": {
      "image/png": "[encoded data removed]",
      "text/plain": [
       "<Figure size 720x720 with 4 Axes>"
      ]
     },
     "metadata": {
      "needs_background": "light"
     },
     "output_type": "display_data"
    }
   ],
   "source": [
    "#now plotting each personality trait by its cluster\n",
    "\n",
    "#Plotting\n",
    "fig, axs = plt.subplots(2, 2, figsize=(10,10))\n",
    "axs[0, 0].scatter(nada_dataset.iloc[:, 4], y, c = nada_dataset[\"clusters\"], s = 50, cmap = 'Dark2')\n",
    "axs[0, 0].set_title('Openness')\n",
    "axs[0, 1].scatter(nada_dataset.iloc[:, 5], y, c = nada_dataset[\"clusters\"], s = 50, cmap = 'Dark2')\n",
    "axs[0, 1].set_title('Agreeableness')\n",
    "axs[1, 0].scatter(nada_dataset.iloc[:, 6], y, c = nada_dataset[\"clusters\"], s = 50, cmap = 'Dark2')\n",
    "axs[1, 0].set_title('Conscientiousness')\n",
    "axs[1, 1].scatter(nada_dataset.iloc[:, 7], y, c = nada_dataset[\"clusters\"], s = 50, cmap = 'Dark2')\n",
    "axs[1, 1].set_title('Extroversion')\n",
    "plt.tight_layout()\n",
    "\n",
    "\n",
    "\n"
   ]
  },
  {
   "cell_type": "code",
   "execution_count": 18,
   "metadata": {
    "id": "V8rzdayvotlI",
    "outputId": "519fa933-92e8-43a3-c72a-b59c660f8f0b"
   },
   "outputs": [
    {
     "data": {
      "text/plain": [
       "<AxesSubplot:xlabel='Gender'>"
      ]
     },
     "execution_count": 18,
     "metadata": {},
     "output_type": "execute_result"
    },
    {
     "data": {
      "image/png": "[encoded data removed]",
      "text/plain": [
       "<Figure size 432x288 with 1 Axes>"
      ]
     },
     "metadata": {
      "needs_background": "light"
     },
     "output_type": "display_data"
    }
   ],
   "source": [
    "# exploring variaty of genders\n",
    "#female=1 male=0\n",
    "by_gender = nada_dataset.groupby('Gender')\n",
    "by_gender.size().plot(kind='bar')"
   ]
  },
  {
   "cell_type": "code",
   "execution_count": 19,
   "metadata": {
    "id": "-eYtSh2votlK",
    "outputId": "37ee62e7-70e8-4e08-daa5-c23f15139781"
   },
   "outputs": [
    {
     "data": {
      "text/plain": [
       "<AxesSubplot:xlabel='Gender,Extroversion'>"
      ]
     },
     "execution_count": 19,
     "metadata": {},
     "output_type": "execute_result"
    },
    {
     "data": {
      "image/png": "[encoded data removed]",
      "text/plain": [
       "<Figure size 432x288 with 1 Axes>"
      ]
     },
     "metadata": {
      "needs_background": "light"
     },
     "output_type": "display_data"
    }
   ],
   "source": [
    "#exploring gender vs extroversion\n",
    "\n",
    "by_gender = nada_dataset.groupby(['Gender','Extroversion'])\n",
    "by_gender.size().plot(kind='bar')"
   ]
  },
  {
   "cell_type": "code",
   "execution_count": 20,
   "metadata": {
    "id": "aHOPoa-2otlL",
    "outputId": "8f492762-f038-49de-ae49-86824a50990f"
   },
   "outputs": [
    {
     "data": {
      "text/plain": [
       "<AxesSubplot:xlabel='Gender,Sexual orientation'>"
      ]
     },
     "execution_count": 20,
     "metadata": {},
     "output_type": "execute_result"
    },
    {
     "data": {
      "image/png": "[encoded data removed]",
      "text/plain": [
       "<Figure size 432x288 with 1 Axes>"
      ]
     },
     "metadata": {
      "needs_background": "light"
     },
     "output_type": "display_data"
    }
   ],
   "source": [
    "by_gender = nada_dataset.groupby(['Gender','Sexual orientation'])\n",
    "by_gender.size().plot(kind='bar')"
   ]
  },
  {
   "cell_type": "markdown",
   "metadata": {
    "id": "CePrd0f2qsSK"
   },
   "source": [
    "# Applying Machine Learning algorithm and performing model evaluation"
   ]
  },
  {
   "cell_type": "markdown",
   "metadata": {
    "id": "Tdt04C_zotlO"
   },
   "source": [
    "# Machine Learning Prediction (predicting cluster)"
   ]
  },
  {
   "cell_type": "code",
   "execution_count": 21,
   "metadata": {
    "id": "J6-ownZPHnkM"
   },
   "outputs": [],
   "source": [
    "from sklearn.neighbors import KNeighborsClassifier\n",
    "from sklearn.ensemble import RandomForestClassifier\n",
    "from sklearn.svm import SVC\n",
    "from sklearn.preprocessing import MinMaxScaler\n",
    "from sklearn.model_selection import train_test_split"
   ]
  },
  {
   "cell_type": "code",
   "execution_count": 22,
   "metadata": {
    "id": "qqToh9kTgkER"
   },
   "outputs": [],
   "source": [
    "# for each trait there will be 3 question to assess the user's level on that trait as low,medium,high \n",
    "#the range of each question is between 1-4, so the minimum total score for a single trait will be 3 and \n",
    "#maximum total score will be 12 for a single trait. however, in the algorithm we need to scale down this range between \n",
    "#between 0 and 1. since there cant be 0 score for a trait so the minimum can be considered as 0.11\n",
    "#below is the method to scale down this range.\n",
    "\n",
    "#new_input is an array of 4 elements representating for each trait and \n",
    "#each trait is an array of 3 elements which each represent the score (1-4) for each question in a single trait\n",
    "# for example new_input=np.array([[4,2,3],[2,3,1],[4,1,2],[2,3,1]])\n",
    "\n",
    "def scaleDown(new_input):\n",
    "    oldMax=12\n",
    "    oldMin=3\n",
    "    newMax=1\n",
    "    newMin=0.11\n",
    "\n",
    "    oldRange = oldMax - oldMin\n",
    "    newRange = newMax - newMin\n",
    "    new_values=[]\n",
    "    for i in new_input:\n",
    "        oldValue=np.sum(i)\n",
    "        newValue = ((oldValue - oldMin) * newRange / oldRange) + newMin\n",
    "        new_values.append(np.round(newValue,decimals=2))\n",
    "\n",
    "    return [new_values]"
   ]
  },
  {
   "cell_type": "code",
   "execution_count": null,
   "metadata": {},
   "outputs": [],
   "source": []
  },
  {
   "cell_type": "code",
   "execution_count": 23,
   "metadata": {
    "id": "qMJIDE6x8xVl"
   },
   "outputs": [],
   "source": [
    "X = nada_dataset.drop([\"clusters\",\"Name\",\"Gender\",\"Age\",\"Sexual orientation\",\"Unnamed: 0\"], 1)\n",
    "\n",
    "y = nada_dataset['clusters']"
   ]
  },
  {
   "cell_type": "code",
   "execution_count": 24,
   "metadata": {},
   "outputs": [
    {
     "data": {
      "text/html": [
       "<div>\n",
       "<style scoped>\n",
       "    .dataframe tbody tr th:only-of-type {\n",
       "        vertical-align: middle;\n",
       "    }\n",
       "\n",
       "    .dataframe tbody tr th {\n",
       "        vertical-align: top;\n",
       "    }\n",
       "\n",
       "    .dataframe thead th {\n",
       "        text-align: right;\n",
       "    }\n",
       "</style>\n",
       "<table border=\"1\" class=\"dataframe\">\n",
       "  <thead>\n",
       "    <tr style=\"text-align: right;\">\n",
       "      <th></th>\n",
       "      <th>Openness</th>\n",
       "      <th>Agreeableness</th>\n",
       "      <th>Conscientiousness</th>\n",
       "      <th>Extroversion</th>\n",
       "    </tr>\n",
       "  </thead>\n",
       "  <tbody>\n",
       "    <tr>\n",
       "      <th>0</th>\n",
       "      <td>0.48</td>\n",
       "      <td>0.63</td>\n",
       "      <td>0.38</td>\n",
       "      <td>0.62</td>\n",
       "    </tr>\n",
       "    <tr>\n",
       "      <th>1</th>\n",
       "      <td>0.54</td>\n",
       "      <td>0.63</td>\n",
       "      <td>0.39</td>\n",
       "      <td>0.60</td>\n",
       "    </tr>\n",
       "    <tr>\n",
       "      <th>2</th>\n",
       "      <td>0.54</td>\n",
       "      <td>0.66</td>\n",
       "      <td>0.36</td>\n",
       "      <td>0.60</td>\n",
       "    </tr>\n",
       "    <tr>\n",
       "      <th>3</th>\n",
       "      <td>0.49</td>\n",
       "      <td>0.65</td>\n",
       "      <td>0.41</td>\n",
       "      <td>0.59</td>\n",
       "    </tr>\n",
       "    <tr>\n",
       "      <th>4</th>\n",
       "      <td>0.54</td>\n",
       "      <td>0.60</td>\n",
       "      <td>0.42</td>\n",
       "      <td>0.59</td>\n",
       "    </tr>\n",
       "    <tr>\n",
       "      <th>...</th>\n",
       "      <td>...</td>\n",
       "      <td>...</td>\n",
       "      <td>...</td>\n",
       "      <td>...</td>\n",
       "    </tr>\n",
       "    <tr>\n",
       "      <th>3995</th>\n",
       "      <td>0.26</td>\n",
       "      <td>0.65</td>\n",
       "      <td>0.58</td>\n",
       "      <td>0.29</td>\n",
       "    </tr>\n",
       "    <tr>\n",
       "      <th>3996</th>\n",
       "      <td>0.28</td>\n",
       "      <td>0.59</td>\n",
       "      <td>0.56</td>\n",
       "      <td>0.38</td>\n",
       "    </tr>\n",
       "    <tr>\n",
       "      <th>3997</th>\n",
       "      <td>0.31</td>\n",
       "      <td>0.65</td>\n",
       "      <td>0.50</td>\n",
       "      <td>0.38</td>\n",
       "    </tr>\n",
       "    <tr>\n",
       "      <th>3998</th>\n",
       "      <td>0.26</td>\n",
       "      <td>0.60</td>\n",
       "      <td>0.52</td>\n",
       "      <td>0.38</td>\n",
       "    </tr>\n",
       "    <tr>\n",
       "      <th>3999</th>\n",
       "      <td>0.26</td>\n",
       "      <td>0.60</td>\n",
       "      <td>0.53</td>\n",
       "      <td>0.32</td>\n",
       "    </tr>\n",
       "  </tbody>\n",
       "</table>\n",
       "<p>4000 rows × 4 columns</p>\n",
       "</div>"
      ],
      "text/plain": [
       "      Openness  Agreeableness  Conscientiousness  Extroversion\n",
       "0         0.48           0.63               0.38          0.62\n",
       "1         0.54           0.63               0.39          0.60\n",
       "2         0.54           0.66               0.36          0.60\n",
       "3         0.49           0.65               0.41          0.59\n",
       "4         0.54           0.60               0.42          0.59\n",
       "...        ...            ...                ...           ...\n",
       "3995      0.26           0.65               0.58          0.29\n",
       "3996      0.28           0.59               0.56          0.38\n",
       "3997      0.31           0.65               0.50          0.38\n",
       "3998      0.26           0.60               0.52          0.38\n",
       "3999      0.26           0.60               0.53          0.32\n",
       "\n",
       "[4000 rows x 4 columns]"
      ]
     },
     "execution_count": 24,
     "metadata": {},
     "output_type": "execute_result"
    }
   ],
   "source": [
    "X"
   ]
  },
  {
   "cell_type": "code",
   "execution_count": 25,
   "metadata": {
    "id": "qyhycGgCmDtm"
   },
   "outputs": [],
   "source": [
    "X_train, X_test, y_train, y_test = train_test_split(X, y)"
   ]
  },
  {
   "cell_type": "code",
   "execution_count": 26,
   "metadata": {
    "id": "JDs05vsh2IvG"
   },
   "outputs": [],
   "source": [
    "# RandomForest Classifier to predict the cluster of the new profile\n",
    "rfc = RandomForestClassifier(max_depth=4, random_state = 10) \n",
    "rfc_model = rfc.fit(X_train, y_train)\n",
    "rcf_prediction = rfc_model.predict(X_test) "
   ]
  },
  {
   "cell_type": "code",
   "execution_count": 27,
   "metadata": {
    "colab": {
     "base_uri": "https://localhost:8080/",
     "height": 300
    },
    "id": "FIjN6MCfO7Wb",
    "outputId": "8623d317-da56-4c2c-ab76-1b88609b83b4"
   },
   "outputs": [
    {
     "name": "stdout",
     "output_type": "stream",
     "text": [
      "Accuracy :  0.981\n"
     ]
    },
    {
     "data": {
      "image/png": "[encoded data removed]",
      "text/plain": [
       "<Figure size 432x288 with 2 Axes>"
      ]
     },
     "metadata": {
      "needs_background": "light"
     },
     "output_type": "display_data"
    }
   ],
   "source": [
    "# Confusion Matrix for Random Forest Classifier\n",
    "\n",
    "from sklearn.metrics import plot_confusion_matrix\n",
    "from sklearn.metrics import accuracy_score \n",
    "\n",
    "print (\"Accuracy : \", accuracy_score(y_test, rcf_prediction))\n",
    "plot_confusion_matrix(rfc_model, X_test, y_test)  \n",
    "plt.show()"
   ]
  },
  {
   "cell_type": "code",
   "execution_count": 28,
   "metadata": {},
   "outputs": [],
   "source": [
    "#Saving the model as classifier\n",
    "\n",
    "import pickle \n",
    "pickle_out = open(\"classifier.pkl\", mode = \"wb\") \n",
    "pickle.dump(rfc_model, pickle_out) \n",
    "pickle_out.close()"
   ]
  },
  {
   "cell_type": "markdown",
   "metadata": {
    "id": "TRS1SYs9rHc4"
   },
   "source": [
    "# Testing based on new user input"
   ]
  },
  {
   "cell_type": "code",
   "execution_count": 29,
   "metadata": {
    "id": "oePmMfdObGxr"
   },
   "outputs": [],
   "source": [
    "#now testing on single input\n",
    "new_input=np.array([[1,1,1],[1,1,1],[1,1,1],[1,1,1]])\n",
    "new_profile=scaleDown(new_input)"
   ]
  },
  {
   "cell_type": "code",
   "execution_count": 30,
   "metadata": {},
   "outputs": [
    {
     "data": {
      "text/plain": [
       "[0.11, 0.11, 0.11, 0.11]"
      ]
     },
     "execution_count": 30,
     "metadata": {},
     "output_type": "execute_result"
    }
   ],
   "source": [
    "new_profile[0]"
   ]
  },
  {
   "cell_type": "code",
   "execution_count": 31,
   "metadata": {
    "id": "JezZfde8iiqg"
   },
   "outputs": [],
   "source": [
    "predicted_cluster=rfc_model.predict(new_profile)\n"
   ]
  },
  {
   "cell_type": "code",
   "execution_count": 32,
   "metadata": {},
   "outputs": [
    {
     "data": {
      "text/plain": [
       "4"
      ]
     },
     "execution_count": 32,
     "metadata": {},
     "output_type": "execute_result"
    }
   ],
   "source": [
    "predicted_cluster[0]"
   ]
  },
  {
   "cell_type": "code",
   "execution_count": 33,
   "metadata": {
    "id": "5fvjK2XCnWTF"
   },
   "outputs": [],
   "source": [
    "df_result=nada_dataset[nada_dataset[\"clusters\"]==predicted_cluster[0]]"
   ]
  },
  {
   "cell_type": "code",
   "execution_count": 34,
   "metadata": {
    "colab": {
     "base_uri": "https://localhost:8080/",
     "height": 402
    },
    "id": "H60_V9oEs1Ug",
    "outputId": "1aa60f86-09bc-46ed-d394-076eb2f11b5f"
   },
   "outputs": [
    {
     "data": {
      "text/html": [
       "<div>\n",
       "<style scoped>\n",
       "    .dataframe tbody tr th:only-of-type {\n",
       "        vertical-align: middle;\n",
       "    }\n",
       "\n",
       "    .dataframe tbody tr th {\n",
       "        vertical-align: top;\n",
       "    }\n",
       "\n",
       "    .dataframe thead th {\n",
       "        text-align: right;\n",
       "    }\n",
       "</style>\n",
       "<table border=\"1\" class=\"dataframe\">\n",
       "  <thead>\n",
       "    <tr style=\"text-align: right;\">\n",
       "      <th></th>\n",
       "      <th>Unnamed: 0</th>\n",
       "      <th>Name</th>\n",
       "      <th>Gender</th>\n",
       "      <th>Age</th>\n",
       "      <th>Sexual orientation</th>\n",
       "      <th>Openness</th>\n",
       "      <th>Agreeableness</th>\n",
       "      <th>Conscientiousness</th>\n",
       "      <th>Extroversion</th>\n",
       "      <th>clusters</th>\n",
       "    </tr>\n",
       "  </thead>\n",
       "  <tbody>\n",
       "    <tr>\n",
       "      <th>3001</th>\n",
       "      <td>3001</td>\n",
       "      <td>Ellena</td>\n",
       "      <td>1</td>\n",
       "      <td>26</td>\n",
       "      <td>1</td>\n",
       "      <td>0.39</td>\n",
       "      <td>0.52</td>\n",
       "      <td>0.29</td>\n",
       "      <td>0.32</td>\n",
       "      <td>4</td>\n",
       "    </tr>\n",
       "    <tr>\n",
       "      <th>3002</th>\n",
       "      <td>3002</td>\n",
       "      <td>Trany</td>\n",
       "      <td>1</td>\n",
       "      <td>25</td>\n",
       "      <td>0</td>\n",
       "      <td>0.39</td>\n",
       "      <td>0.49</td>\n",
       "      <td>0.30</td>\n",
       "      <td>0.33</td>\n",
       "      <td>4</td>\n",
       "    </tr>\n",
       "    <tr>\n",
       "      <th>3003</th>\n",
       "      <td>3003</td>\n",
       "      <td>Alise</td>\n",
       "      <td>1</td>\n",
       "      <td>34</td>\n",
       "      <td>2</td>\n",
       "      <td>0.37</td>\n",
       "      <td>0.56</td>\n",
       "      <td>0.27</td>\n",
       "      <td>0.32</td>\n",
       "      <td>4</td>\n",
       "    </tr>\n",
       "    <tr>\n",
       "      <th>3004</th>\n",
       "      <td>3004</td>\n",
       "      <td>Terran</td>\n",
       "      <td>1</td>\n",
       "      <td>38</td>\n",
       "      <td>2</td>\n",
       "      <td>0.37</td>\n",
       "      <td>0.49</td>\n",
       "      <td>0.31</td>\n",
       "      <td>0.31</td>\n",
       "      <td>4</td>\n",
       "    </tr>\n",
       "    <tr>\n",
       "      <th>3005</th>\n",
       "      <td>3005</td>\n",
       "      <td>Prudence</td>\n",
       "      <td>1</td>\n",
       "      <td>20</td>\n",
       "      <td>2</td>\n",
       "      <td>0.36</td>\n",
       "      <td>0.50</td>\n",
       "      <td>0.29</td>\n",
       "      <td>0.31</td>\n",
       "      <td>4</td>\n",
       "    </tr>\n",
       "    <tr>\n",
       "      <th>...</th>\n",
       "      <td>...</td>\n",
       "      <td>...</td>\n",
       "      <td>...</td>\n",
       "      <td>...</td>\n",
       "      <td>...</td>\n",
       "      <td>...</td>\n",
       "      <td>...</td>\n",
       "      <td>...</td>\n",
       "      <td>...</td>\n",
       "      <td>...</td>\n",
       "    </tr>\n",
       "    <tr>\n",
       "      <th>3329</th>\n",
       "      <td>3329</td>\n",
       "      <td>Darya</td>\n",
       "      <td>1</td>\n",
       "      <td>24</td>\n",
       "      <td>1</td>\n",
       "      <td>0.35</td>\n",
       "      <td>0.52</td>\n",
       "      <td>0.27</td>\n",
       "      <td>0.33</td>\n",
       "      <td>4</td>\n",
       "    </tr>\n",
       "    <tr>\n",
       "      <th>3330</th>\n",
       "      <td>3330</td>\n",
       "      <td>Lorette</td>\n",
       "      <td>1</td>\n",
       "      <td>19</td>\n",
       "      <td>1</td>\n",
       "      <td>0.36</td>\n",
       "      <td>0.49</td>\n",
       "      <td>0.28</td>\n",
       "      <td>0.32</td>\n",
       "      <td>4</td>\n",
       "    </tr>\n",
       "    <tr>\n",
       "      <th>3331</th>\n",
       "      <td>3331</td>\n",
       "      <td>Andreia</td>\n",
       "      <td>1</td>\n",
       "      <td>36</td>\n",
       "      <td>0</td>\n",
       "      <td>0.37</td>\n",
       "      <td>0.54</td>\n",
       "      <td>0.35</td>\n",
       "      <td>0.24</td>\n",
       "      <td>4</td>\n",
       "    </tr>\n",
       "    <tr>\n",
       "      <th>3332</th>\n",
       "      <td>3332</td>\n",
       "      <td>Sajid</td>\n",
       "      <td>0</td>\n",
       "      <td>18</td>\n",
       "      <td>0</td>\n",
       "      <td>0.34</td>\n",
       "      <td>0.55</td>\n",
       "      <td>0.33</td>\n",
       "      <td>0.31</td>\n",
       "      <td>4</td>\n",
       "    </tr>\n",
       "    <tr>\n",
       "      <th>3333</th>\n",
       "      <td>3333</td>\n",
       "      <td>Carmelita</td>\n",
       "      <td>1</td>\n",
       "      <td>45</td>\n",
       "      <td>1</td>\n",
       "      <td>0.35</td>\n",
       "      <td>0.50</td>\n",
       "      <td>0.31</td>\n",
       "      <td>0.33</td>\n",
       "      <td>4</td>\n",
       "    </tr>\n",
       "  </tbody>\n",
       "</table>\n",
       "<p>333 rows × 10 columns</p>\n",
       "</div>"
      ],
      "text/plain": [
       "      Unnamed: 0       Name  Gender  Age  Sexual orientation  Openness  \\\n",
       "3001        3001     Ellena       1   26                   1      0.39   \n",
       "3002        3002      Trany       1   25                   0      0.39   \n",
       "3003        3003      Alise       1   34                   2      0.37   \n",
       "3004        3004     Terran       1   38                   2      0.37   \n",
       "3005        3005   Prudence       1   20                   2      0.36   \n",
       "...          ...        ...     ...  ...                 ...       ...   \n",
       "3329        3329      Darya       1   24                   1      0.35   \n",
       "3330        3330    Lorette       1   19                   1      0.36   \n",
       "3331        3331    Andreia       1   36                   0      0.37   \n",
       "3332        3332      Sajid       0   18                   0      0.34   \n",
       "3333        3333  Carmelita       1   45                   1      0.35   \n",
       "\n",
       "      Agreeableness  Conscientiousness  Extroversion  clusters  \n",
       "3001           0.52               0.29          0.32         4  \n",
       "3002           0.49               0.30          0.33         4  \n",
       "3003           0.56               0.27          0.32         4  \n",
       "3004           0.49               0.31          0.31         4  \n",
       "3005           0.50               0.29          0.31         4  \n",
       "...             ...                ...           ...       ...  \n",
       "3329           0.52               0.27          0.33         4  \n",
       "3330           0.49               0.28          0.32         4  \n",
       "3331           0.54               0.35          0.24         4  \n",
       "3332           0.55               0.33          0.31         4  \n",
       "3333           0.50               0.31          0.33         4  \n",
       "\n",
       "[333 rows x 10 columns]"
      ]
     },
     "execution_count": 34,
     "metadata": {},
     "output_type": "execute_result"
    }
   ],
   "source": [
    "df_result"
   ]
  },
  {
   "cell_type": "code",
   "execution_count": 35,
   "metadata": {
    "colab": {
     "base_uri": "https://localhost:8080/"
    },
    "id": "IXewf6f9utJH",
    "outputId": "d6556a09-acb1-4cf3-fd13-c9aab2381efb"
   },
   "outputs": [
    {
     "name": "stderr",
     "output_type": "stream",
     "text": [
      "C:\\ProgramData\\Anaconda3\\lib\\site-packages\\ipykernel_launcher.py:3: SettingWithCopyWarning: \n",
      "A value is trying to be set on a copy of a slice from a DataFrame.\n",
      "Try using .loc[row_indexer,col_indexer] = value instead\n",
      "\n",
      "See the caveats in the documentation: https://pandas.pydata.org/pandas-docs/stable/user_guide/indexing.html#returning-a-view-versus-a-copy\n",
      "  This is separate from the ipykernel package so we can avoid doing imports until\n"
     ]
    }
   ],
   "source": [
    "# now we know the cluster of new user input however yet we dont know the best and closest data to new profile\n",
    "#so we use cosine similarity to know the best and closest vector to the new profile vector\n",
    "df_result[\"similarity_score\"]=sk_metrics.pairwise.cosine_similarity(X = df_result.drop([\"clusters\",\"Name\",\"Gender\",\"Age\",\"Sexual orientation\",\"Unnamed: 0\"], 1), Y=new_profile, dense_output=True)"
   ]
  },
  {
   "cell_type": "code",
   "execution_count": 36,
   "metadata": {
    "id": "42j55Aieotli",
    "outputId": "bd326db3-53e1-4b33-cf7f-2837bafa5c8a"
   },
   "outputs": [
    {
     "data": {
      "text/html": [
       "<div>\n",
       "<style scoped>\n",
       "    .dataframe tbody tr th:only-of-type {\n",
       "        vertical-align: middle;\n",
       "    }\n",
       "\n",
       "    .dataframe tbody tr th {\n",
       "        vertical-align: top;\n",
       "    }\n",
       "\n",
       "    .dataframe thead th {\n",
       "        text-align: right;\n",
       "    }\n",
       "</style>\n",
       "<table border=\"1\" class=\"dataframe\">\n",
       "  <thead>\n",
       "    <tr style=\"text-align: right;\">\n",
       "      <th></th>\n",
       "      <th>Unnamed: 0</th>\n",
       "      <th>Name</th>\n",
       "      <th>Gender</th>\n",
       "      <th>Age</th>\n",
       "      <th>Sexual orientation</th>\n",
       "      <th>Openness</th>\n",
       "      <th>Agreeableness</th>\n",
       "      <th>Conscientiousness</th>\n",
       "      <th>Extroversion</th>\n",
       "      <th>clusters</th>\n",
       "      <th>similarity_score</th>\n",
       "    </tr>\n",
       "  </thead>\n",
       "  <tbody>\n",
       "    <tr>\n",
       "      <th>3001</th>\n",
       "      <td>3001</td>\n",
       "      <td>Ellena</td>\n",
       "      <td>1</td>\n",
       "      <td>26</td>\n",
       "      <td>1</td>\n",
       "      <td>0.39</td>\n",
       "      <td>0.52</td>\n",
       "      <td>0.29</td>\n",
       "      <td>0.32</td>\n",
       "      <td>4</td>\n",
       "      <td>0.973879</td>\n",
       "    </tr>\n",
       "    <tr>\n",
       "      <th>3002</th>\n",
       "      <td>3002</td>\n",
       "      <td>Trany</td>\n",
       "      <td>1</td>\n",
       "      <td>25</td>\n",
       "      <td>0</td>\n",
       "      <td>0.39</td>\n",
       "      <td>0.49</td>\n",
       "      <td>0.30</td>\n",
       "      <td>0.33</td>\n",
       "      <td>4</td>\n",
       "      <td>0.982011</td>\n",
       "    </tr>\n",
       "    <tr>\n",
       "      <th>3003</th>\n",
       "      <td>3003</td>\n",
       "      <td>Alise</td>\n",
       "      <td>1</td>\n",
       "      <td>34</td>\n",
       "      <td>2</td>\n",
       "      <td>0.37</td>\n",
       "      <td>0.56</td>\n",
       "      <td>0.27</td>\n",
       "      <td>0.32</td>\n",
       "      <td>4</td>\n",
       "      <td>0.960718</td>\n",
       "    </tr>\n",
       "    <tr>\n",
       "      <th>3004</th>\n",
       "      <td>3004</td>\n",
       "      <td>Terran</td>\n",
       "      <td>1</td>\n",
       "      <td>38</td>\n",
       "      <td>2</td>\n",
       "      <td>0.37</td>\n",
       "      <td>0.49</td>\n",
       "      <td>0.31</td>\n",
       "      <td>0.31</td>\n",
       "      <td>4</td>\n",
       "      <td>0.980842</td>\n",
       "    </tr>\n",
       "    <tr>\n",
       "      <th>3005</th>\n",
       "      <td>3005</td>\n",
       "      <td>Prudence</td>\n",
       "      <td>1</td>\n",
       "      <td>20</td>\n",
       "      <td>2</td>\n",
       "      <td>0.36</td>\n",
       "      <td>0.50</td>\n",
       "      <td>0.29</td>\n",
       "      <td>0.31</td>\n",
       "      <td>4</td>\n",
       "      <td>0.975678</td>\n",
       "    </tr>\n",
       "    <tr>\n",
       "      <th>...</th>\n",
       "      <td>...</td>\n",
       "      <td>...</td>\n",
       "      <td>...</td>\n",
       "      <td>...</td>\n",
       "      <td>...</td>\n",
       "      <td>...</td>\n",
       "      <td>...</td>\n",
       "      <td>...</td>\n",
       "      <td>...</td>\n",
       "      <td>...</td>\n",
       "      <td>...</td>\n",
       "    </tr>\n",
       "    <tr>\n",
       "      <th>3329</th>\n",
       "      <td>3329</td>\n",
       "      <td>Darya</td>\n",
       "      <td>1</td>\n",
       "      <td>24</td>\n",
       "      <td>1</td>\n",
       "      <td>0.35</td>\n",
       "      <td>0.52</td>\n",
       "      <td>0.27</td>\n",
       "      <td>0.33</td>\n",
       "      <td>4</td>\n",
       "      <td>0.969542</td>\n",
       "    </tr>\n",
       "    <tr>\n",
       "      <th>3330</th>\n",
       "      <td>3330</td>\n",
       "      <td>Lorette</td>\n",
       "      <td>1</td>\n",
       "      <td>19</td>\n",
       "      <td>1</td>\n",
       "      <td>0.36</td>\n",
       "      <td>0.49</td>\n",
       "      <td>0.28</td>\n",
       "      <td>0.32</td>\n",
       "      <td>4</td>\n",
       "      <td>0.977146</td>\n",
       "    </tr>\n",
       "    <tr>\n",
       "      <th>3331</th>\n",
       "      <td>3331</td>\n",
       "      <td>Andreia</td>\n",
       "      <td>1</td>\n",
       "      <td>36</td>\n",
       "      <td>0</td>\n",
       "      <td>0.37</td>\n",
       "      <td>0.54</td>\n",
       "      <td>0.35</td>\n",
       "      <td>0.24</td>\n",
       "      <td>4</td>\n",
       "      <td>0.961380</td>\n",
       "    </tr>\n",
       "    <tr>\n",
       "      <th>3332</th>\n",
       "      <td>3332</td>\n",
       "      <td>Sajid</td>\n",
       "      <td>0</td>\n",
       "      <td>18</td>\n",
       "      <td>0</td>\n",
       "      <td>0.34</td>\n",
       "      <td>0.55</td>\n",
       "      <td>0.33</td>\n",
       "      <td>0.31</td>\n",
       "      <td>4</td>\n",
       "      <td>0.969131</td>\n",
       "    </tr>\n",
       "    <tr>\n",
       "      <th>3333</th>\n",
       "      <td>3333</td>\n",
       "      <td>Carmelita</td>\n",
       "      <td>1</td>\n",
       "      <td>45</td>\n",
       "      <td>1</td>\n",
       "      <td>0.35</td>\n",
       "      <td>0.50</td>\n",
       "      <td>0.31</td>\n",
       "      <td>0.33</td>\n",
       "      <td>4</td>\n",
       "      <td>0.980348</td>\n",
       "    </tr>\n",
       "  </tbody>\n",
       "</table>\n",
       "<p>333 rows × 11 columns</p>\n",
       "</div>"
      ],
      "text/plain": [
       "      Unnamed: 0       Name  Gender  Age  Sexual orientation  Openness  \\\n",
       "3001        3001     Ellena       1   26                   1      0.39   \n",
       "3002        3002      Trany       1   25                   0      0.39   \n",
       "3003        3003      Alise       1   34                   2      0.37   \n",
       "3004        3004     Terran       1   38                   2      0.37   \n",
       "3005        3005   Prudence       1   20                   2      0.36   \n",
       "...          ...        ...     ...  ...                 ...       ...   \n",
       "3329        3329      Darya       1   24                   1      0.35   \n",
       "3330        3330    Lorette       1   19                   1      0.36   \n",
       "3331        3331    Andreia       1   36                   0      0.37   \n",
       "3332        3332      Sajid       0   18                   0      0.34   \n",
       "3333        3333  Carmelita       1   45                   1      0.35   \n",
       "\n",
       "      Agreeableness  Conscientiousness  Extroversion  clusters  \\\n",
       "3001           0.52               0.29          0.32         4   \n",
       "3002           0.49               0.30          0.33         4   \n",
       "3003           0.56               0.27          0.32         4   \n",
       "3004           0.49               0.31          0.31         4   \n",
       "3005           0.50               0.29          0.31         4   \n",
       "...             ...                ...           ...       ...   \n",
       "3329           0.52               0.27          0.33         4   \n",
       "3330           0.49               0.28          0.32         4   \n",
       "3331           0.54               0.35          0.24         4   \n",
       "3332           0.55               0.33          0.31         4   \n",
       "3333           0.50               0.31          0.33         4   \n",
       "\n",
       "      similarity_score  \n",
       "3001          0.973879  \n",
       "3002          0.982011  \n",
       "3003          0.960718  \n",
       "3004          0.980842  \n",
       "3005          0.975678  \n",
       "...                ...  \n",
       "3329          0.969542  \n",
       "3330          0.977146  \n",
       "3331          0.961380  \n",
       "3332          0.969131  \n",
       "3333          0.980348  \n",
       "\n",
       "[333 rows x 11 columns]"
      ]
     },
     "execution_count": 36,
     "metadata": {},
     "output_type": "execute_result"
    }
   ],
   "source": [
    "df_result"
   ]
  },
  {
   "cell_type": "code",
   "execution_count": 37,
   "metadata": {
    "colab": {
     "base_uri": "https://localhost:8080/"
    },
    "id": "X8F8_0k0iNnD",
    "outputId": "0299622c-4efa-4724-eff3-5673b4742799"
   },
   "outputs": [
    {
     "data": {
      "text/plain": [
       "[[0.11, 0.11, 0.11, 0.11]]"
      ]
     },
     "execution_count": 37,
     "metadata": {},
     "output_type": "execute_result"
    }
   ],
   "source": [
    "new_profile"
   ]
  },
  {
   "cell_type": "code",
   "execution_count": 38,
   "metadata": {
    "id": "7_b-FJSLotll"
   },
   "outputs": [],
   "source": [
    "# now need to filter the dataset according to the age,sexual preferences of user\n",
    "#for example if user prefers age between 20-28 and is sexual preference as category 0 and user is a female\n",
    "\n",
    "prefered_age=(np.arange(20,28,1))\n",
    "predered_sexualOrientation=0\n",
    "user_gender=1 #female\n"
   ]
  },
  {
   "cell_type": "code",
   "execution_count": 39,
   "metadata": {},
   "outputs": [
    {
     "data": {
      "text/plain": [
       "array([20, 21, 22, 23, 24, 25, 26, 27])"
      ]
     },
     "execution_count": 39,
     "metadata": {},
     "output_type": "execute_result"
    }
   ],
   "source": [
    "prefered_age"
   ]
  },
  {
   "cell_type": "code",
   "execution_count": 40,
   "metadata": {
    "id": "c5VnHnbJotll"
   },
   "outputs": [],
   "source": [
    "filtered_result=df_result.loc[(df_result['Gender'] == 0) & (df_result[\"Sexual orientation\"]==0) & (df_result['Age'].isin(prefered_age)\n",
    ")]\n",
    "\n"
   ]
  },
  {
   "cell_type": "code",
   "execution_count": 41,
   "metadata": {
    "colab": {
     "base_uri": "https://localhost:8080/",
     "height": 195
    },
    "id": "grS47J70v0zd",
    "outputId": "6a79ba29-95ff-4cf2-dd3c-13571daf3e45"
   },
   "outputs": [
    {
     "data": {
      "text/html": [
       "<div>\n",
       "<style scoped>\n",
       "    .dataframe tbody tr th:only-of-type {\n",
       "        vertical-align: middle;\n",
       "    }\n",
       "\n",
       "    .dataframe tbody tr th {\n",
       "        vertical-align: top;\n",
       "    }\n",
       "\n",
       "    .dataframe thead th {\n",
       "        text-align: right;\n",
       "    }\n",
       "</style>\n",
       "<table border=\"1\" class=\"dataframe\">\n",
       "  <thead>\n",
       "    <tr style=\"text-align: right;\">\n",
       "      <th></th>\n",
       "      <th>Unnamed: 0</th>\n",
       "      <th>Name</th>\n",
       "      <th>Gender</th>\n",
       "      <th>Age</th>\n",
       "      <th>Sexual orientation</th>\n",
       "      <th>Openness</th>\n",
       "      <th>Agreeableness</th>\n",
       "      <th>Conscientiousness</th>\n",
       "      <th>Extroversion</th>\n",
       "      <th>clusters</th>\n",
       "      <th>similarity_score</th>\n",
       "    </tr>\n",
       "  </thead>\n",
       "  <tbody>\n",
       "    <tr>\n",
       "      <th>3154</th>\n",
       "      <td>3154</td>\n",
       "      <td>Wilford</td>\n",
       "      <td>0</td>\n",
       "      <td>22</td>\n",
       "      <td>0</td>\n",
       "      <td>0.33</td>\n",
       "      <td>0.54</td>\n",
       "      <td>0.36</td>\n",
       "      <td>0.37</td>\n",
       "      <td>4</td>\n",
       "      <td>0.979551</td>\n",
       "    </tr>\n",
       "    <tr>\n",
       "      <th>3316</th>\n",
       "      <td>3316</td>\n",
       "      <td>Hussain</td>\n",
       "      <td>0</td>\n",
       "      <td>23</td>\n",
       "      <td>0</td>\n",
       "      <td>0.32</td>\n",
       "      <td>0.48</td>\n",
       "      <td>0.30</td>\n",
       "      <td>0.31</td>\n",
       "      <td>4</td>\n",
       "      <td>0.978695</td>\n",
       "    </tr>\n",
       "    <tr>\n",
       "      <th>3145</th>\n",
       "      <td>3145</td>\n",
       "      <td>Jaydee</td>\n",
       "      <td>0</td>\n",
       "      <td>26</td>\n",
       "      <td>0</td>\n",
       "      <td>0.35</td>\n",
       "      <td>0.51</td>\n",
       "      <td>0.34</td>\n",
       "      <td>0.30</td>\n",
       "      <td>4</td>\n",
       "      <td>0.977910</td>\n",
       "    </tr>\n",
       "    <tr>\n",
       "      <th>3180</th>\n",
       "      <td>3180</td>\n",
       "      <td>Nino</td>\n",
       "      <td>0</td>\n",
       "      <td>27</td>\n",
       "      <td>0</td>\n",
       "      <td>0.33</td>\n",
       "      <td>0.53</td>\n",
       "      <td>0.36</td>\n",
       "      <td>0.29</td>\n",
       "      <td>4</td>\n",
       "      <td>0.971870</td>\n",
       "    </tr>\n",
       "    <tr>\n",
       "      <th>3208</th>\n",
       "      <td>3208</td>\n",
       "      <td>Emery</td>\n",
       "      <td>0</td>\n",
       "      <td>20</td>\n",
       "      <td>0</td>\n",
       "      <td>0.39</td>\n",
       "      <td>0.51</td>\n",
       "      <td>0.27</td>\n",
       "      <td>0.29</td>\n",
       "      <td>4</td>\n",
       "      <td>0.967588</td>\n",
       "    </tr>\n",
       "  </tbody>\n",
       "</table>\n",
       "</div>"
      ],
      "text/plain": [
       "      Unnamed: 0     Name  Gender  Age  Sexual orientation  Openness  \\\n",
       "3154        3154  Wilford       0   22                   0      0.33   \n",
       "3316        3316  Hussain       0   23                   0      0.32   \n",
       "3145        3145   Jaydee       0   26                   0      0.35   \n",
       "3180        3180     Nino       0   27                   0      0.33   \n",
       "3208        3208    Emery       0   20                   0      0.39   \n",
       "\n",
       "      Agreeableness  Conscientiousness  Extroversion  clusters  \\\n",
       "3154           0.54               0.36          0.37         4   \n",
       "3316           0.48               0.30          0.31         4   \n",
       "3145           0.51               0.34          0.30         4   \n",
       "3180           0.53               0.36          0.29         4   \n",
       "3208           0.51               0.27          0.29         4   \n",
       "\n",
       "      similarity_score  \n",
       "3154          0.979551  \n",
       "3316          0.978695  \n",
       "3145          0.977910  \n",
       "3180          0.971870  \n",
       "3208          0.967588  "
      ]
     },
     "execution_count": 41,
     "metadata": {},
     "output_type": "execute_result"
    }
   ],
   "source": [
    "#after filtering the user preferences we will take the top 5 match based on cosine similarity score\n",
    "filtered_result.sort_values(by=[\"similarity_score\"],ascending=False).head(5)"
   ]
  },
  {
   "cell_type": "code",
   "execution_count": null,
   "metadata": {
    "id": "EruJKt2RwmEf",
    "outputId": "a2dbb243-0044-49c0-be2f-c6cec590233b"
   },
   "outputs": [],
   "source": [
    "new_profile"
   ]
  },
  {
   "cell_type": "code",
   "execution_count": null,
   "metadata": {
    "id": "F9aVR2tXotlo"
   },
   "outputs": [],
   "source": []
  }
 ],
 "metadata": {
  "colab": {
   "collapsed_sections": [],
   "name": "ML_Cluster.ipynb",
   "provenance": [],
   "toc_visible": true
  },
  "kernelspec": {
   "display_name": "Python 3",
   "language": "python",
   "name": "python3"
  }
 },
 "nbformat": 4,
 "nbformat_minor": 1
}
